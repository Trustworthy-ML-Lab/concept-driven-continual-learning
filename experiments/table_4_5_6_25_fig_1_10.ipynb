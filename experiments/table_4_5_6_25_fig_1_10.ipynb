{
 "cells": [
  {
   "cell_type": "code",
   "execution_count": 1,
   "metadata": {},
   "outputs": [],
   "source": [
    "import pandas as pd\n",
    "import csv\n",
    "import matplotlib.pyplot as plt"
   ]
  },
  {
   "attachments": {},
   "cell_type": "markdown",
   "metadata": {},
   "source": [
    "# Freeze units analysis (Fig 10)"
   ]
  },
  {
   "cell_type": "code",
   "execution_count": 11,
   "metadata": {},
   "outputs": [
    {
     "data": {
      "image/png": "[encoded data removed]",
      "text/plain": [
       "<Figure size 432x288 with 1 Axes>"
      ]
     },
     "metadata": {
      "needs_background": "light"
     },
     "output_type": "display_data"
    }
   ],
   "source": [
    "color_l=['b','g','r','y','k']\n",
    "dataset=['CIFAR-10','CIFAR-100','CUB200','ImageNet-10','TinyImageNet']\n",
    "for t in range(5):\n",
    "    normal_file='~/freeze_stat/%s.csv'%(dataset[t])\n",
    "    normal=pd.read_csv(normal_file)\n",
    "    normal_pre=[]\n",
    "    for index, row in normal.iterrows():\n",
    "        if (row['layer']>=50):\n",
    "            #print(float(row['freeze'])/float(row['total']))\n",
    "            normal_pre.append(float(row['freeze'])/float(row['total']))\n",
    "    layer=range(50,61)\n",
    "    label_normal=dataset[t]\n",
    "    plt.scatter(layer,normal_pre,marker='.',color=color_l[t],label=label_normal)\n",
    "\n",
    "#plt.title(\"CLIP-Dissect, TinyImagenet with seed 5678\")\n",
    "plt.xlabel(r\"layer ( deeper direction : $\\rightarrow$)\")\n",
    "plt.ylabel(\"ratio of freezing units\")\n",
    "x_ticks=range(50,61,2)\n",
    "plt.xticks(ticks=x_ticks, labels=x_ticks)\n",
    "leg = plt.legend(bbox_to_anchor=(1.05, 0), loc=(0.5,0), borderaxespad=0.2, handlelength=0.2, handletextpad=0.8, fancybox=True)\n",
    "plt.show()"
   ]
  },
  {
   "attachments": {},
   "cell_type": "markdown",
   "metadata": {},
   "source": [
    "# CLIP-Dissect Analysis"
   ]
  },
  {
   "cell_type": "markdown",
   "metadata": {},
   "source": [
    "## Table 4"
   ]
  },
  {
   "cell_type": "code",
   "execution_count": 23,
   "metadata": {},
   "outputs": [
    {
     "data": {
      "text/html": [
       "<div>\n",
       "<style scoped>\n",
       "    .dataframe tbody tr th:only-of-type {\n",
       "        vertical-align: middle;\n",
       "    }\n",
       "\n",
       "    .dataframe tbody tr th {\n",
       "        vertical-align: top;\n",
       "    }\n",
       "\n",
       "    .dataframe thead th {\n",
       "        text-align: right;\n",
       "    }\n",
       "</style>\n",
       "<table border=\"1\" class=\"dataframe\">\n",
       "  <thead>\n",
       "    <tr style=\"text-align: right;\">\n",
       "      <th></th>\n",
       "      <th>layer</th>\n",
       "      <th>unit</th>\n",
       "      <th>description</th>\n",
       "      <th>similarity</th>\n",
       "    </tr>\n",
       "  </thead>\n",
       "  <tbody>\n",
       "    <tr>\n",
       "      <th>131</th>\n",
       "      <td>layer4</td>\n",
       "      <td>131</td>\n",
       "      <td>textile</td>\n",
       "      <td>0.322510</td>\n",
       "    </tr>\n",
       "    <tr>\n",
       "      <th>411</th>\n",
       "      <td>layer4</td>\n",
       "      <td>411</td>\n",
       "      <td>logo</td>\n",
       "      <td>0.305145</td>\n",
       "    </tr>\n",
       "    <tr>\n",
       "      <th>431</th>\n",
       "      <td>layer4</td>\n",
       "      <td>431</td>\n",
       "      <td>textile</td>\n",
       "      <td>0.308319</td>\n",
       "    </tr>\n",
       "  </tbody>\n",
       "</table>\n",
       "</div>"
      ],
      "text/plain": [
       "      layer  unit description  similarity\n",
       "131  layer4   131     textile    0.322510\n",
       "411  layer4   411        logo    0.305145\n",
       "431  layer4   431     textile    0.308319"
      ]
     },
     "execution_count": 23,
     "metadata": {},
     "output_type": "execute_result"
    }
   ],
   "source": [
    "cifar10=pd.read_csv('~/resnet18_cifar10_5task_20epoch/resnet18-SRT-cifar10-task1-5_all.csv')\n",
    "before=cifar10.loc[(cifar10['layer'] =='layer4')&(cifar10['similarity']>=0.3)]\n",
    "before"
   ]
  },
  {
   "cell_type": "markdown",
   "metadata": {},
   "source": [
    "## Table 5,6"
   ]
  },
  {
   "cell_type": "code",
   "execution_count": 102,
   "metadata": {},
   "outputs": [
    {
     "name": "stdout",
     "output_type": "stream",
     "text": [
      "{4: 'leaf', 103: 'leaf', 165: 'leaf', 179: 'leaf', 192: 'green', 194: 'leaf', 209: 'green', 220: 'leaf', 317: 'leaf', 350: 'leaf', 356: 'stripe', 359: 'leaf', 372: 'stripe', 395: 'leaf', 408: 'leaf', 461: 'leaf', 464: 'dotted', 480: 'green', 490: 'zebra'}\n",
      "{2: 'textile', 4: 'green', 103: 'green', 140: 'zebra', 148: 'zebra', 216: 'airlines', 291: 'bedrooms', 306: 'green', 331: 'green', 359: 'leaf', 372: 'stripe', 464: 'dotted', 480: 'green', 483: 'aaa', 493: 'stripes'}\n",
      "{6: 'accommodations', 88: 'accommodations', 103: 'green', 140: 'zebra', 148: 'zebra', 216: 'aviation', 306: 'green', 330: 'accommodations', 356: 'stripe', 359: 'green', 372: 'stripe', 377: 'accommodations', 390: 'green', 413: 'kitchens', 464: 'dotted', 480: 'green'}\n",
      "{4: 'green', 30: 'kitchens', 64: 'leaf', 103: 'green', 165: 'leaf', 183: 'zebra', 190: 'zebra', 216: 'aviation', 227: 'accommodations', 291: 'bedrooms', 306: 'green', 330: 'accommodations', 339: 'zebra', 359: 'green', 372: 'stripe', 377: 'accommodations', 390: 'green', 413: 'kitchens', 443: 'green', 464: 'dotted', 480: 'green', 493: 'stripes', 507: 'zebra'}\n",
      "{4: 'green', 6: 'accommodations', 30: 'cabinets', 64: 'leaf', 88: 'accommodations', 103: 'green', 111: 'accommodations', 112: 'kitchen', 165: 'leaf', 183: 'zebra', 216: 'aviation', 220: 'leaf', 227: 'accommodations', 236: 'stripes', 291: 'bedrooms', 306: 'green', 330: 'accommodations', 339: 'zebra', 350: 'leaf', 359: 'green', 364: 'accommodations', 372: 'stripe', 377: 'accommodations', 390: 'green', 413: 'kitchens', 443: 'green', 464: 'dotted', 480: 'green', 493: 'stripes'}\n"
     ]
    }
   ],
   "source": [
    "tasks=[[] for i in range(5)]\n",
    "concept_list=[{} for i in range(5)]\n",
    "for t in range(5):\n",
    "    with open(f'results/resnet18_cifar100_5task_20epoch/sol1/resnet18-SRT-cifar100-task{t}-5_all.csv', newline='') as f:\n",
    "        reader = csv.reader(f)\n",
    "        tasks[t] = list(reader)\n",
    "    for line in tasks[t][1:]:\n",
    "        if float(line[3])>=0.3:\n",
    "            concept_list[t][int(line[1])]=line[2]\n",
    "    print(concept_list[t])"
   ]
  },
  {
   "cell_type": "code",
   "execution_count": 103,
   "metadata": {},
   "outputs": [
    {
     "name": "stdout",
     "output_type": "stream",
     "text": [
      "task:0 after task:1, fix:4, still concept units:6, original concept units:19, ratio of fixing: 0.21052631578947367\n",
      "task:1 after task:2, fix:7, still concept units:9, original concept units:15, ratio of fixing: 0.4666666666666667\n",
      "task:2 after task:3, fix:11, still concept units:11, original concept units:16, ratio of fixing: 0.6875\n",
      "task:3 after task:4, fix:20, still concept units:21, original concept units:23, ratio of fixing: 0.8695652173913043\n"
     ]
    }
   ],
   "source": [
    "for task in range(4):\n",
    "    total=0\n",
    "    fix=0\n",
    "    for key, value in concept_list[task].items():\n",
    "        if key in concept_list[task+1].keys():\n",
    "            total=total+1\n",
    "            if concept_list[task+1][key]==value:\n",
    "                fix=fix+1\n",
    "                #print(key,value)\n",
    "\n",
    "    print(f\"task:{task} after task:{task+1}, fix:{fix}, still concept units:{total}, original concept units:{len(concept_list[task].items())}, ratio of fixing: {fix/len(concept_list[task].items())}\")"
   ]
  },
  {
   "cell_type": "markdown",
   "metadata": {},
   "source": [
    "## Figure 1"
   ]
  },
  {
   "cell_type": "code",
   "execution_count": null,
   "metadata": {},
   "outputs": [],
   "source": [
    "# load from last results\n",
    "ratio=[0.21,0.46,0.68,0.86]"
   ]
  },
  {
   "cell_type": "code",
   "execution_count": null,
   "metadata": {},
   "outputs": [],
   "source": [
    "dataset=['Finetune','EWC','SI','LwF','GEM','MIR','IG-CL-freeze-all','IG-CL-freeze-part']\n",
    "mark=['.','x','o','v','D','s','x','s']\n",
    "col=['navy','peru','darkseagreen','lightseagreen','slategrey','thistle']\n",
    "for t in range(8):\n",
    "    layer=range(2,6)\n",
    "    label_normal=dataset[t]\n",
    "    if(t<6):\n",
    "        plt.plot(layer,ratio[t],marker=mark[t],color=col[t],linestyle='dashed',label=label_normal)\n",
    "    else:\n",
    "        label_normal+=' (Ours)'\n",
    "        plt.plot(layer,ratio[t],marker=mark[t],color='r',label=label_normal)\n",
    "\n",
    "#plt.title(\"CLIP-Dissect, TinyImagenet with seed 5678\")\n",
    "plt.xlabel(\"task index\")\n",
    "plt.ylabel(\"preserved concept unit ratio\")\n",
    "x_ticks=range(2,6)\n",
    "#plt.xticks(ticks=x_ticks, labels=x_ticks)\n",
    "SIZE=16\n",
    "plt.rc('font', size=SIZE)          # controls default text sizes\n",
    "plt.rc('axes', titlesize=SIZE)     # fontsize of the axes title\n",
    "plt.rc('axes', labelsize=SIZE)    # fontsize of the x and y labels\n",
    "plt.rc('xtick', labelsize=SIZE)    # fontsize of the tick labels\n",
    "plt.rc('ytick', labelsize=SIZE)    # fontsize of the tick labels\n",
    "plt.rc('legend', fontsize=SIZE)    # legend fontsize\n",
    "plt.title('(a) CIFAR-100', y=-0.35)\n",
    "#plt.legend(bbox_to_anchor=(0.5, 1.45),loc=\"upper center\",ncol=3, borderaxespad=0.2, handletextpad=0.8, fancybox=False)\n",
    "plt.show()"
   ]
  }
 ],
 "metadata": {
  "kernelspec": {
   "display_name": "Python 3",
   "language": "python",
   "name": "python3"
  },
  "language_info": {
   "codemirror_mode": {
    "name": "ipython",
    "version": 3
   },
   "file_extension": ".py",
   "mimetype": "text/x-python",
   "name": "python",
   "nbconvert_exporter": "python",
   "pygments_lexer": "ipython3",
   "version": "3.9.13"
  },
  "orig_nbformat": 4,
  "vscode": {
   "interpreter": {
    "hash": "aee8b7b246df8f9039afb4144a1f6fd8d2ca17a180786b69acc140d282b71a49"
   }
  }
 },
 "nbformat": 4,
 "nbformat_minor": 2
}
