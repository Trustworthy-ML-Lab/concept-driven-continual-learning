{
 "cells": [
  {
   "cell_type": "code",
   "execution_count": 1,
   "id": "a5720aa2-4365-4bd3-b2e8-c52217de46ae",
   "metadata": {},
   "outputs": [],
   "source": [
    "import torch\n",
    "import os\n",
    "import random\n",
    "import json\n",
    "from torchvision import models\n",
    "import pandas as pd"
   ]
  },
  {
   "cell_type": "code",
   "execution_count": 2,
   "id": "b50f004d",
   "metadata": {},
   "outputs": [],
   "source": [
    "data='cifar100'\n",
    "task='0'"
   ]
  },
  {
   "cell_type": "code",
   "execution_count": 3,
   "id": "0d9c0251",
   "metadata": {},
   "outputs": [],
   "source": [
    "cls_file = './sandbox-lf-cbm/data/cifar100_classes.txt'#data_utils.LABEL_FILES[dataset]\n",
    "with open(cls_file, \"r\") as f:\n",
    "    classes = f.read().split(\"\\n\")"
   ]
  },
  {
   "cell_type": "code",
   "execution_count": null,
   "id": "b486050c-7a36-4339-b9ff-e6b8426dbbd4",
   "metadata": {},
   "outputs": [],
   "source": [
    "# change this to the correct model dir, everything else should be taken care of\n",
    "sd=f'./ck_dir/fix_order/resnet18-SRT-cifar100-task0-5.pt'\n",
    "device = \"cuda\"\n",
    "naive_model = models.resnet18(pretrained=False, num_classes=100).to(device)\n",
    "naive_model.load_state_dict(torch.load(sd))"
   ]
  },
  {
   "cell_type": "code",
   "execution_count": 6,
   "id": "b0446fca",
   "metadata": {},
   "outputs": [],
   "source": [
    "# Read the CSV file into a DataFrame\n",
    "df = pd.read_csv(f'./results/ST_v2/fix_order/resnet18_cifar100_5task_20epoch/resnet18-SRT-cifar100-task0-5_all.csv')\n",
    "concepts = df['description'].tolist()"
   ]
  },
  {
   "cell_type": "code",
   "execution_count": 9,
   "id": "46521523",
   "metadata": {},
   "outputs": [],
   "source": [
    "task='1'"
   ]
  },
  {
   "cell_type": "code",
   "execution_count": null,
   "id": "d230356d",
   "metadata": {},
   "outputs": [],
   "source": [
    "# change this to the correct model dir, everything else should be taken care of\n",
    "sd=f'./ck_dir/fix_order/resnet18-SRT-cifar100-task1-5.pt'\n",
    "device = \"cuda\"\n",
    "f_model = models.resnet18(pretrained=False, num_classes=100).to(device)\n",
    "f_model.load_state_dict(torch.load(sd))"
   ]
  },
  {
   "cell_type": "code",
   "execution_count": 7,
   "id": "5871a0d2-8b18-4bac-aa26-bf3dce49fcbd",
   "metadata": {},
   "outputs": [],
   "source": [
    "# Read the CSV file into a DataFrame\n",
    "df = pd.read_csv(f'./results/ST_v2/fix_order/resnet18_cifar100_5task_20epoch/resnet18-SRT-cifar100-task1-5_all.csv')\n",
    "f_concepts = df['description'].tolist()"
   ]
  },
  {
   "cell_type": "markdown",
   "id": "adb41545",
   "metadata": {},
   "source": [
    "## Show final layer weights for some classes"
   ]
  },
  {
   "cell_type": "markdown",
   "id": "7201ed8e-bbef-4b5a-ab55-4bed2bbb235e",
   "metadata": {},
   "source": [
    "You can build a Sankey diagram of weights by copying the incoming weights printed below into https://sankeymatic.com/build/"
   ]
  },
  {
   "cell_type": "code",
   "execution_count": null,
   "id": "31f95bd7-a06c-49d0-a7d4-3a190a6083da",
   "metadata": {},
   "outputs": [],
   "source": [
    "to_show = random.choices([i for i in range(len(classes))], k=1)\n",
    "to_show=[18]\n",
    "for i in to_show:\n",
    "    print(\"Output class:{} - {}\".format(i, classes[i]))\n",
    "    print(\"Incoming weights:\")\n",
    "    for j in range(len(concepts)):\n",
    "        if torch.abs(naive_model.fc.weight[i,j])>0.05:\n",
    "            if naive_model.fc.weight[i,j]>0:\n",
    "                print(\"{} [{:.4f}] {}\".format(concepts[j], naive_model.fc.weight[i,j], classes[i]))\n",
    "            #else:\n",
    "            #    print(\"not {} [{:.4f}] {}\".format(concepts[j], -naive_model.fc.weight[i,j], classes[i]))"
   ]
  },
  {
   "cell_type": "code",
   "execution_count": null,
   "id": "3bfce795",
   "metadata": {},
   "outputs": [],
   "source": [
    "to_show = random.choices([i for i in range(len(classes))], k=1)\n",
    "to_show=[18]\n",
    "for i in to_show:\n",
    "    print(\"Output class:{} - {}\".format(i, classes[i]))\n",
    "    print(\"Incoming weights:\")\n",
    "    for j in range(len(f_concepts)):\n",
    "        if torch.abs(f_model.fc.weight[i,j])>0.05:\n",
    "            if f_model.fc.weight[i,j]>0:\n",
    "                print(\"{} [{:.4f}] {}\".format(f_concepts[j], f_model.fc.weight[i,j], classes[i]))\n",
    "            #else:\n",
    "            #    print(\"not {} [{:.4f}] {}\".format(f_concepts[j], -f_model.fc.weight[i,j], classes[i]))"
   ]
  }
 ],
 "metadata": {
  "kernelspec": {
   "display_name": "Python 3 (ipykernel)",
   "language": "python",
   "name": "python3"
  },
  "language_info": {
   "codemirror_mode": {
    "name": "ipython",
    "version": 3
   },
   "file_extension": ".py",
   "mimetype": "text/x-python",
   "name": "python",
   "nbconvert_exporter": "python",
   "pygments_lexer": "ipython3",
   "version": "3.7.12"
  }
 },
 "nbformat": 4,
 "nbformat_minor": 5
}
