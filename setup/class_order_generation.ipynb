{
 "cells": [
  {
   "cell_type": "code",
   "execution_count": null,
   "metadata": {},
   "outputs": [],
   "source": [
    "import random"
   ]
  },
  {
   "cell_type": "markdown",
   "metadata": {},
   "source": [
    "* Perturb class distribution for experiments.\n",
    "* We randomly choose seed `3456` to generate as the main random class distribution.\n",
    "* Here we take CIFAR-100 as an example."
   ]
  },
  {
   "cell_type": "code",
   "execution_count": null,
   "metadata": {},
   "outputs": [],
   "source": [
    "def perturb_list(input_list, perturbation_rate=0.05):\n",
    "    num_elements = len(input_list)\n",
    "    num_perturbations = int(num_elements * perturbation_rate)\n",
    "    \n",
    "    perturbed_list = input_list.copy()\n",
    "    \n",
    "    for _ in range(num_perturbations):\n",
    "        idx1, idx2 = random.sample(range(num_elements), 2)\n",
    "        perturbed_list[idx1], perturbed_list[idx2] = perturbed_list[idx2], perturbed_list[idx1]\n",
    "    \n",
    "    return perturbed_list"
   ]
  },
  {
   "cell_type": "code",
   "execution_count": 7,
   "metadata": {},
   "outputs": [],
   "source": [
    "cifar100_3456=[3, 6, 14, 15, 18, 20, 31, 33, 36, 43, 48, 55, 61, 71, 73, 74, 79, 85, 90, 96,4, 10, 11, 12, 17, 24, 25, 29, 37, 39, 41, 51, 57, 58, 62, 64, 67, 76, 94, 95,7, 23, 27, 40, 42, 44, 56, 59, 63, 77, 81, 83, 84, 86, 87, 88, 92, 93, 98, 99,2, 5, 8, 9, 16, 21, 26, 45, 46, 47, 50, 52, 54, 60, 68, 69, 70, 75, 80, 91,0, 1, 13, 19, 22, 28, 30, 32, 34, 35, 38, 49, 53, 65, 66, 72, 78, 82, 89, 97]"
   ]
  },
  {
   "cell_type": "code",
   "execution_count": 12,
   "metadata": {},
   "outputs": [],
   "source": [
    "cifar100_3456_2=perturb_list(cifar100_3456,0.15)"
   ]
  },
  {
   "cell_type": "code",
   "execution_count": 24,
   "metadata": {},
   "outputs": [],
   "source": [
    "with open('./cache/cifar100_order_fix34562.txt','w') as f:\n",
    "    for l in cifar100_3456_2:\n",
    "        f.write(str(l))\n",
    "        f.write('\\n')"
   ]
  }
 ],
 "metadata": {
  "kernelspec": {
   "display_name": "Python 3",
   "language": "python",
   "name": "python3"
  },
  "language_info": {
   "codemirror_mode": {
    "name": "ipython",
    "version": 3
   },
   "file_extension": ".py",
   "mimetype": "text/x-python",
   "name": "python",
   "nbconvert_exporter": "python",
   "pygments_lexer": "ipython3",
   "version": "3.9.13"
  },
  "orig_nbformat": 4,
  "vscode": {
   "interpreter": {
    "hash": "aee8b7b246df8f9039afb4144a1f6fd8d2ca17a180786b69acc140d282b71a49"
   }
  }
 },
 "nbformat": 4,
 "nbformat_minor": 2
}
